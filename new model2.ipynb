{
 "cells": [
  {
   "cell_type": "code",
   "execution_count": 22,
   "id": "30d2241e-bd20-429a-8f8d-535a387ef869",
   "metadata": {},
   "outputs": [],
   "source": [
    "import tensorflow as tf\n",
    "import pandas as pd\n",
    "from sklearn import preprocessing\n",
    "from sklearn.model_selection import train_test_split\n",
    "from sklearn import metrics\n",
    "import numpy as np\n",
    "import keras\n",
    "import re\n",
    "import time\n",
    "from tensorflow.keras.preprocessing.text import one_hot\n",
    "from tensorflow.keras.optimizers import Adam, SGD, Adadelta, Adagrad, RMSprop\n",
    "from tensorflow.keras.preprocessing.sequence import pad_sequences\n",
    "from tensorflow.keras.models import Sequential, save_model\n",
    "from tensorflow.keras.layers import Flatten,Embedding,Conv1D, MaxPooling1D, Dropout, Dense\n",
    "from tensorflow.keras.callbacks import EarlyStopping, ModelCheckpoint\n",
    "from tensorflow.keras.models import load_model, Model\n",
    "\n",
    "from sklearn.metrics import confusion_matrix, classification_report\n",
    "import matplotlib.pyplot as plt\n",
    "import seaborn as sn"
   ]
  },
  {
   "cell_type": "code",
   "execution_count": 23,
   "id": "5727bbc4-35f4-4dc6-b4e1-7784b23387d1",
   "metadata": {},
   "outputs": [
    {
     "name": "stderr",
     "output_type": "stream",
     "text": [
      "WARNING:absl:Skipping variable loading for optimizer 'Adam', because it has 43 variables whereas the saved optimizer has 1 variables. \n"
     ]
    }
   ],
   "source": [
    "mymodel = load_model('/home/aogundiran/Documents/New Program/models/model-01-12-24.keras')\n",
    "#mymodel = load_model('/home/aogundiran/Documents/New Program/models/model-01-08-24.keras')"
   ]
  },
  {
   "cell_type": "code",
   "execution_count": 24,
   "id": "0381dbe8-5d9a-4ca0-a0b3-d274990e72ed",
   "metadata": {},
   "outputs": [],
   "source": [
    "def random_upsampling(df,label):\n",
    "    majority, minority = df[label].value_counts()\n",
    "    df_majority = df[df[label] == 0]\n",
    "    df_minority = df[df[label] == 1]\n",
    "\n",
    "    minority_over = df_minority.sample(majority, replace = True)\n",
    "    df_over = pd.concat([df_majority, minority_over], axis = 0)\n",
    "    return df_over\n",
    "\n",
    "def random_downsampling(df,label):\n",
    "    majority, minority = df[label].value_counts()\n",
    "    df_majority = df[df[label] == 0]\n",
    "    df_minority = df[df[label] == 1]\n",
    "\n",
    "    majority_over = df_majority.sample(minority, replace = True)\n",
    "    df_over = pd.concat([df_minority, majority_over], axis = 0)\n",
    "    return df_over\n",
    "\n",
    "# def preprocess(self,alist):\n",
    "#     for i in alist:\n",
    "#         split = re.split('\\n',i)\n",
    "\n",
    "#         string = \"\\n\".join([re.sub('^\\d+.','',elem) for elem in split])\n",
    "#         string = re.split('(W)',string)\n",
    "#         string = [re.sub(r\"[\\]\\//[\\{\\}#;.&><\\\\\\(\\)'']\", ' ',x) for x in string]\n",
    "#         string = [x for x in string if x.strip()]\n",
    "#         string = \" \".join(x for x in string)\n",
    "#         cleaned_code_snippet.append(string)\n",
    "#     return cleaned_code_snippet\n",
    "\n",
    "def encode(alist, vocab_size,max_length):\n",
    "    encoded_docs = [one_hot(str(d),vocab_size) for d in alist]\n",
    "    padded_docs = pad_sequences(encoded_docs, maxlen=max_length, padding='post')\n",
    "    return padded_docs\n",
    "\n",
    "def find_vocab_size(alist):\n",
    "    all_words = [str(w) for s in alist for w in str(s).split()]\n",
    "    print(len(all_words))\n",
    "    unique_words = set(all_words)\n",
    "    vocab_size = len(unique_words) + 1\n",
    "    return vocab_size"
   ]
  },
  {
   "cell_type": "code",
   "execution_count": 25,
   "id": "6624dd1b-04f2-44ce-bc06-e94cf7d523ef",
   "metadata": {},
   "outputs": [],
   "source": [
    "label_encoder = preprocessing.LabelEncoder()"
   ]
  },
  {
   "cell_type": "code",
   "execution_count": 26,
   "id": "84a04ad3-fc91-48c7-9c79-4bf934b1a6a6",
   "metadata": {},
   "outputs": [],
   "source": [
    "df = pd.read_csv(\"data/training_new.csv\")\n",
    "#df = pd.read_csv(\"data/test_new.csv\")\n",
    "df = df[[\"text\", \"class\"]]"
   ]
  },
  {
   "cell_type": "code",
   "execution_count": 27,
   "id": "82626c43-2331-4379-a890-12c46f3653be",
   "metadata": {},
   "outputs": [],
   "source": [
    "#param_df = pd.read_csv('data/vocab_params.csv')\n",
    "param_df = pd.read_csv('data/vocab_params-01-12-24.csv')\n",
    "#param_df = pd.read_csv('data/vocab_params-01-08-24.csv')"
   ]
  },
  {
   "cell_type": "code",
   "execution_count": 28,
   "id": "12b41a2f-6f26-4c73-9524-295a63d7dfab",
   "metadata": {},
   "outputs": [
    {
     "data": {
      "text/plain": [
       "Index(['vocab_size', 'max_length'], dtype='object')"
      ]
     },
     "execution_count": 28,
     "metadata": {},
     "output_type": "execute_result"
    }
   ],
   "source": [
    "param_df.columns"
   ]
  },
  {
   "cell_type": "code",
   "execution_count": 29,
   "id": "5c5f1123-8522-4845-aaf5-693e00dce082",
   "metadata": {},
   "outputs": [
    {
     "data": {
      "text/html": [
       "<div>\n",
       "<style scoped>\n",
       "    .dataframe tbody tr th:only-of-type {\n",
       "        vertical-align: middle;\n",
       "    }\n",
       "\n",
       "    .dataframe tbody tr th {\n",
       "        vertical-align: top;\n",
       "    }\n",
       "\n",
       "    .dataframe thead th {\n",
       "        text-align: right;\n",
       "    }\n",
       "</style>\n",
       "<table border=\"1\" class=\"dataframe\">\n",
       "  <thead>\n",
       "    <tr style=\"text-align: right;\">\n",
       "      <th></th>\n",
       "      <th>text</th>\n",
       "      <th>class</th>\n",
       "    </tr>\n",
       "  </thead>\n",
       "  <tbody>\n",
       "    <tr>\n",
       "      <th>0</th>\n",
       "      <td>hey!!</td>\n",
       "      <td>0</td>\n",
       "    </tr>\n",
       "    <tr>\n",
       "      <th>1</th>\n",
       "      <td>a little better what are u doing?</td>\n",
       "      <td>0</td>\n",
       "    </tr>\n",
       "    <tr>\n",
       "      <th>2</th>\n",
       "      <td>yea i thought u did i just woke and checked to...</td>\n",
       "      <td>0</td>\n",
       "    </tr>\n",
       "    <tr>\n",
       "      <th>3</th>\n",
       "      <td>so what did u do today?</td>\n",
       "      <td>0</td>\n",
       "    </tr>\n",
       "    <tr>\n",
       "      <th>4</th>\n",
       "      <td>sounds like fun lol</td>\n",
       "      <td>1</td>\n",
       "    </tr>\n",
       "  </tbody>\n",
       "</table>\n",
       "</div>"
      ],
      "text/plain": [
       "                                                text  class\n",
       "0                                              hey!!      0\n",
       "1                  a little better what are u doing?      0\n",
       "2  yea i thought u did i just woke and checked to...      0\n",
       "3                            so what did u do today?      0\n",
       "4                                sounds like fun lol      1"
      ]
     },
     "execution_count": 29,
     "metadata": {},
     "output_type": "execute_result"
    }
   ],
   "source": [
    "df.head()"
   ]
  },
  {
   "cell_type": "code",
   "execution_count": 30,
   "id": "f7dfbb43-cfae-4739-afd0-16129a0dc566",
   "metadata": {},
   "outputs": [],
   "source": [
    "#df = random_upsampling(df,\"class\")\n",
    "#df = random_downsampling(df,\"class\")\n",
    "# code_snippet = list(df[feature])\n",
    "# df[feature]=preprocess(code_snippet)"
   ]
  },
  {
   "cell_type": "code",
   "execution_count": 31,
   "id": "13d740d5-a31c-41e8-b67d-7b9f689481f0",
   "metadata": {},
   "outputs": [
    {
     "data": {
      "text/plain": [
       "903607"
      ]
     },
     "execution_count": 31,
     "metadata": {},
     "output_type": "execute_result"
    }
   ],
   "source": [
    "len(df)"
   ]
  },
  {
   "cell_type": "code",
   "execution_count": 32,
   "id": "0f93f463-1b8c-4a00-9c7c-509cd4b95224",
   "metadata": {},
   "outputs": [],
   "source": [
    "X = df\n",
    "Y = np.ravel(df[[\"class\"]])\n",
    "Y = label_encoder.fit_transform(Y)"
   ]
  },
  {
   "cell_type": "code",
   "execution_count": 33,
   "id": "87fed52e-360f-4498-9968-cc3bd8d203e9",
   "metadata": {},
   "outputs": [],
   "source": [
    "docs = list(X[\"text\"])"
   ]
  },
  {
   "cell_type": "code",
   "execution_count": 34,
   "id": "a7f7f01a-9902-435c-81ee-82ed49a3fad2",
   "metadata": {},
   "outputs": [
    {
     "name": "stdout",
     "output_type": "stream",
     "text": [
      "max_length 9892\n"
     ]
    }
   ],
   "source": [
    "vocab_size = list(param_df['vocab_size'])[0]\n",
    "#print(\"vocab_size\", vocab_size)\n",
    "max_length = list(param_df['max_length'])[0]\n",
    "print(\"max_length\", max_length)\n",
    "padded_docs = encode(docs,vocab_size, max_length)"
   ]
  },
  {
   "cell_type": "code",
   "execution_count": 35,
   "id": "1f67dc7e-8f1c-4982-87a1-7c9f2d5d77c3",
   "metadata": {},
   "outputs": [
    {
     "name": "stderr",
     "output_type": "stream",
     "text": [
      "2024-01-27 17:24:37.051579: W external/local_tsl/tsl/framework/cpu_allocator_impl.cc:83] Allocation of 35753921776 exceeds 10% of free system memory.\n",
      "2024-01-27 17:25:03.958832: W tensorflow/core/framework/op_kernel.cc:1827] UNKNOWN: JIT compilation failed.\n"
     ]
    },
    {
     "ename": "UnknownError",
     "evalue": "Graph execution error:\n\nDetected at node sequential/dense_5/Sigmoid defined at (most recent call last):\n  File \"<frozen runpy>\", line 198, in _run_module_as_main\n\n  File \"<frozen runpy>\", line 88, in _run_code\n\n  File \"/home/aogundiran/miniconda3/lib/python3.11/site-packages/ipykernel_launcher.py\", line 17, in <module>\n\n  File \"/home/aogundiran/miniconda3/lib/python3.11/site-packages/traitlets/config/application.py\", line 1053, in launch_instance\n\n  File \"/home/aogundiran/miniconda3/lib/python3.11/site-packages/ipykernel/kernelapp.py\", line 737, in start\n\n  File \"/home/aogundiran/miniconda3/lib/python3.11/site-packages/tornado/platform/asyncio.py\", line 195, in start\n\n  File \"/home/aogundiran/miniconda3/lib/python3.11/asyncio/base_events.py\", line 607, in run_forever\n\n  File \"/home/aogundiran/miniconda3/lib/python3.11/asyncio/base_events.py\", line 1922, in _run_once\n\n  File \"/home/aogundiran/miniconda3/lib/python3.11/asyncio/events.py\", line 80, in _run\n\n  File \"/home/aogundiran/miniconda3/lib/python3.11/site-packages/ipykernel/kernelbase.py\", line 524, in dispatch_queue\n\n  File \"/home/aogundiran/miniconda3/lib/python3.11/site-packages/ipykernel/kernelbase.py\", line 513, in process_one\n\n  File \"/home/aogundiran/miniconda3/lib/python3.11/site-packages/ipykernel/kernelbase.py\", line 418, in dispatch_shell\n\n  File \"/home/aogundiran/miniconda3/lib/python3.11/site-packages/ipykernel/kernelbase.py\", line 758, in execute_request\n\n  File \"/home/aogundiran/miniconda3/lib/python3.11/site-packages/ipykernel/ipkernel.py\", line 426, in do_execute\n\n  File \"/home/aogundiran/miniconda3/lib/python3.11/site-packages/ipykernel/zmqshell.py\", line 549, in run_cell\n\n  File \"/home/aogundiran/miniconda3/lib/python3.11/site-packages/IPython/core/interactiveshell.py\", line 3046, in run_cell\n\n  File \"/home/aogundiran/miniconda3/lib/python3.11/site-packages/IPython/core/interactiveshell.py\", line 3101, in _run_cell\n\n  File \"/home/aogundiran/miniconda3/lib/python3.11/site-packages/IPython/core/async_helpers.py\", line 129, in _pseudo_sync_runner\n\n  File \"/home/aogundiran/miniconda3/lib/python3.11/site-packages/IPython/core/interactiveshell.py\", line 3306, in run_cell_async\n\n  File \"/home/aogundiran/miniconda3/lib/python3.11/site-packages/IPython/core/interactiveshell.py\", line 3488, in run_ast_nodes\n\n  File \"/home/aogundiran/miniconda3/lib/python3.11/site-packages/IPython/core/interactiveshell.py\", line 3548, in run_code\n\n  File \"/tmp/ipykernel_7844/4091305801.py\", line 2, in <module>\n\n  File \"/home/aogundiran/miniconda3/lib/python3.11/site-packages/keras/src/utils/traceback_utils.py\", line 65, in error_handler\n\n  File \"/home/aogundiran/miniconda3/lib/python3.11/site-packages/keras/src/engine/training.py\", line 2655, in predict\n\n  File \"/home/aogundiran/miniconda3/lib/python3.11/site-packages/keras/src/engine/training.py\", line 2440, in predict_function\n\n  File \"/home/aogundiran/miniconda3/lib/python3.11/site-packages/keras/src/engine/training.py\", line 2425, in step_function\n\n  File \"/home/aogundiran/miniconda3/lib/python3.11/site-packages/keras/src/engine/training.py\", line 2413, in run_step\n\n  File \"/home/aogundiran/miniconda3/lib/python3.11/site-packages/keras/src/engine/training.py\", line 2381, in predict_step\n\n  File \"/home/aogundiran/miniconda3/lib/python3.11/site-packages/keras/src/utils/traceback_utils.py\", line 65, in error_handler\n\n  File \"/home/aogundiran/miniconda3/lib/python3.11/site-packages/keras/src/engine/training.py\", line 590, in __call__\n\n  File \"/home/aogundiran/miniconda3/lib/python3.11/site-packages/keras/src/utils/traceback_utils.py\", line 65, in error_handler\n\n  File \"/home/aogundiran/miniconda3/lib/python3.11/site-packages/keras/src/engine/base_layer.py\", line 1149, in __call__\n\n  File \"/home/aogundiran/miniconda3/lib/python3.11/site-packages/keras/src/utils/traceback_utils.py\", line 96, in error_handler\n\n  File \"/home/aogundiran/miniconda3/lib/python3.11/site-packages/keras/src/engine/sequential.py\", line 398, in call\n\n  File \"/home/aogundiran/miniconda3/lib/python3.11/site-packages/keras/src/engine/functional.py\", line 515, in call\n\n  File \"/home/aogundiran/miniconda3/lib/python3.11/site-packages/keras/src/engine/functional.py\", line 672, in _run_internal_graph\n\n  File \"/home/aogundiran/miniconda3/lib/python3.11/site-packages/keras/src/utils/traceback_utils.py\", line 65, in error_handler\n\n  File \"/home/aogundiran/miniconda3/lib/python3.11/site-packages/keras/src/engine/base_layer.py\", line 1149, in __call__\n\n  File \"/home/aogundiran/miniconda3/lib/python3.11/site-packages/keras/src/utils/traceback_utils.py\", line 96, in error_handler\n\n  File \"/home/aogundiran/miniconda3/lib/python3.11/site-packages/keras/src/layers/core/dense.py\", line 255, in call\n\n  File \"/home/aogundiran/miniconda3/lib/python3.11/site-packages/keras/src/activations.py\", line 400, in sigmoid\n\n  File \"/home/aogundiran/miniconda3/lib/python3.11/site-packages/keras/src/backend.py\", line 5915, in sigmoid\n\nJIT compilation failed.\n\t [[{{node sequential/dense_5/Sigmoid}}]] [Op:__inference_predict_function_1768]",
     "output_type": "error",
     "traceback": [
      "\u001b[0;31m---------------------------------------------------------------------------\u001b[0m",
      "\u001b[0;31mUnknownError\u001b[0m                              Traceback (most recent call last)",
      "Cell \u001b[0;32mIn[35], line 2\u001b[0m\n\u001b[1;32m      1\u001b[0m \u001b[38;5;66;03m#padded_docs1 = encode(docs1, vocab_size, max_length)\u001b[39;00m\n\u001b[0;32m----> 2\u001b[0m test_preds \u001b[38;5;241m=\u001b[39m \u001b[43mmymodel\u001b[49m\u001b[38;5;241;43m.\u001b[39;49m\u001b[43mpredict\u001b[49m\u001b[43m(\u001b[49m\u001b[43mpadded_docs\u001b[49m\u001b[43m)\u001b[49m\n\u001b[1;32m      3\u001b[0m test_preds \u001b[38;5;241m=\u001b[39m np\u001b[38;5;241m.\u001b[39mround(test_preds)\u001b[38;5;241m.\u001b[39mastype(\u001b[38;5;28mint\u001b[39m)\n\u001b[1;32m      4\u001b[0m test_preds1 \u001b[38;5;241m=\u001b[39m np\u001b[38;5;241m.\u001b[39margmax(test_preds,axis\u001b[38;5;241m=\u001b[39m\u001b[38;5;241m1\u001b[39m)\n",
      "File \u001b[0;32m~/miniconda3/lib/python3.11/site-packages/keras/src/utils/traceback_utils.py:70\u001b[0m, in \u001b[0;36mfilter_traceback.<locals>.error_handler\u001b[0;34m(*args, **kwargs)\u001b[0m\n\u001b[1;32m     67\u001b[0m     filtered_tb \u001b[38;5;241m=\u001b[39m _process_traceback_frames(e\u001b[38;5;241m.\u001b[39m__traceback__)\n\u001b[1;32m     68\u001b[0m     \u001b[38;5;66;03m# To get the full stack trace, call:\u001b[39;00m\n\u001b[1;32m     69\u001b[0m     \u001b[38;5;66;03m# `tf.debugging.disable_traceback_filtering()`\u001b[39;00m\n\u001b[0;32m---> 70\u001b[0m     \u001b[38;5;28;01mraise\u001b[39;00m e\u001b[38;5;241m.\u001b[39mwith_traceback(filtered_tb) \u001b[38;5;28;01mfrom\u001b[39;00m \u001b[38;5;28;01mNone\u001b[39;00m\n\u001b[1;32m     71\u001b[0m \u001b[38;5;28;01mfinally\u001b[39;00m:\n\u001b[1;32m     72\u001b[0m     \u001b[38;5;28;01mdel\u001b[39;00m filtered_tb\n",
      "File \u001b[0;32m~/miniconda3/lib/python3.11/site-packages/tensorflow/python/eager/execute.py:53\u001b[0m, in \u001b[0;36mquick_execute\u001b[0;34m(op_name, num_outputs, inputs, attrs, ctx, name)\u001b[0m\n\u001b[1;32m     51\u001b[0m \u001b[38;5;28;01mtry\u001b[39;00m:\n\u001b[1;32m     52\u001b[0m   ctx\u001b[38;5;241m.\u001b[39mensure_initialized()\n\u001b[0;32m---> 53\u001b[0m   tensors \u001b[38;5;241m=\u001b[39m pywrap_tfe\u001b[38;5;241m.\u001b[39mTFE_Py_Execute(ctx\u001b[38;5;241m.\u001b[39m_handle, device_name, op_name,\n\u001b[1;32m     54\u001b[0m                                       inputs, attrs, num_outputs)\n\u001b[1;32m     55\u001b[0m \u001b[38;5;28;01mexcept\u001b[39;00m core\u001b[38;5;241m.\u001b[39m_NotOkStatusException \u001b[38;5;28;01mas\u001b[39;00m e:\n\u001b[1;32m     56\u001b[0m   \u001b[38;5;28;01mif\u001b[39;00m name \u001b[38;5;129;01mis\u001b[39;00m \u001b[38;5;129;01mnot\u001b[39;00m \u001b[38;5;28;01mNone\u001b[39;00m:\n",
      "\u001b[0;31mUnknownError\u001b[0m: Graph execution error:\n\nDetected at node sequential/dense_5/Sigmoid defined at (most recent call last):\n  File \"<frozen runpy>\", line 198, in _run_module_as_main\n\n  File \"<frozen runpy>\", line 88, in _run_code\n\n  File \"/home/aogundiran/miniconda3/lib/python3.11/site-packages/ipykernel_launcher.py\", line 17, in <module>\n\n  File \"/home/aogundiran/miniconda3/lib/python3.11/site-packages/traitlets/config/application.py\", line 1053, in launch_instance\n\n  File \"/home/aogundiran/miniconda3/lib/python3.11/site-packages/ipykernel/kernelapp.py\", line 737, in start\n\n  File \"/home/aogundiran/miniconda3/lib/python3.11/site-packages/tornado/platform/asyncio.py\", line 195, in start\n\n  File \"/home/aogundiran/miniconda3/lib/python3.11/asyncio/base_events.py\", line 607, in run_forever\n\n  File \"/home/aogundiran/miniconda3/lib/python3.11/asyncio/base_events.py\", line 1922, in _run_once\n\n  File \"/home/aogundiran/miniconda3/lib/python3.11/asyncio/events.py\", line 80, in _run\n\n  File \"/home/aogundiran/miniconda3/lib/python3.11/site-packages/ipykernel/kernelbase.py\", line 524, in dispatch_queue\n\n  File \"/home/aogundiran/miniconda3/lib/python3.11/site-packages/ipykernel/kernelbase.py\", line 513, in process_one\n\n  File \"/home/aogundiran/miniconda3/lib/python3.11/site-packages/ipykernel/kernelbase.py\", line 418, in dispatch_shell\n\n  File \"/home/aogundiran/miniconda3/lib/python3.11/site-packages/ipykernel/kernelbase.py\", line 758, in execute_request\n\n  File \"/home/aogundiran/miniconda3/lib/python3.11/site-packages/ipykernel/ipkernel.py\", line 426, in do_execute\n\n  File \"/home/aogundiran/miniconda3/lib/python3.11/site-packages/ipykernel/zmqshell.py\", line 549, in run_cell\n\n  File \"/home/aogundiran/miniconda3/lib/python3.11/site-packages/IPython/core/interactiveshell.py\", line 3046, in run_cell\n\n  File \"/home/aogundiran/miniconda3/lib/python3.11/site-packages/IPython/core/interactiveshell.py\", line 3101, in _run_cell\n\n  File \"/home/aogundiran/miniconda3/lib/python3.11/site-packages/IPython/core/async_helpers.py\", line 129, in _pseudo_sync_runner\n\n  File \"/home/aogundiran/miniconda3/lib/python3.11/site-packages/IPython/core/interactiveshell.py\", line 3306, in run_cell_async\n\n  File \"/home/aogundiran/miniconda3/lib/python3.11/site-packages/IPython/core/interactiveshell.py\", line 3488, in run_ast_nodes\n\n  File \"/home/aogundiran/miniconda3/lib/python3.11/site-packages/IPython/core/interactiveshell.py\", line 3548, in run_code\n\n  File \"/tmp/ipykernel_7844/4091305801.py\", line 2, in <module>\n\n  File \"/home/aogundiran/miniconda3/lib/python3.11/site-packages/keras/src/utils/traceback_utils.py\", line 65, in error_handler\n\n  File \"/home/aogundiran/miniconda3/lib/python3.11/site-packages/keras/src/engine/training.py\", line 2655, in predict\n\n  File \"/home/aogundiran/miniconda3/lib/python3.11/site-packages/keras/src/engine/training.py\", line 2440, in predict_function\n\n  File \"/home/aogundiran/miniconda3/lib/python3.11/site-packages/keras/src/engine/training.py\", line 2425, in step_function\n\n  File \"/home/aogundiran/miniconda3/lib/python3.11/site-packages/keras/src/engine/training.py\", line 2413, in run_step\n\n  File \"/home/aogundiran/miniconda3/lib/python3.11/site-packages/keras/src/engine/training.py\", line 2381, in predict_step\n\n  File \"/home/aogundiran/miniconda3/lib/python3.11/site-packages/keras/src/utils/traceback_utils.py\", line 65, in error_handler\n\n  File \"/home/aogundiran/miniconda3/lib/python3.11/site-packages/keras/src/engine/training.py\", line 590, in __call__\n\n  File \"/home/aogundiran/miniconda3/lib/python3.11/site-packages/keras/src/utils/traceback_utils.py\", line 65, in error_handler\n\n  File \"/home/aogundiran/miniconda3/lib/python3.11/site-packages/keras/src/engine/base_layer.py\", line 1149, in __call__\n\n  File \"/home/aogundiran/miniconda3/lib/python3.11/site-packages/keras/src/utils/traceback_utils.py\", line 96, in error_handler\n\n  File \"/home/aogundiran/miniconda3/lib/python3.11/site-packages/keras/src/engine/sequential.py\", line 398, in call\n\n  File \"/home/aogundiran/miniconda3/lib/python3.11/site-packages/keras/src/engine/functional.py\", line 515, in call\n\n  File \"/home/aogundiran/miniconda3/lib/python3.11/site-packages/keras/src/engine/functional.py\", line 672, in _run_internal_graph\n\n  File \"/home/aogundiran/miniconda3/lib/python3.11/site-packages/keras/src/utils/traceback_utils.py\", line 65, in error_handler\n\n  File \"/home/aogundiran/miniconda3/lib/python3.11/site-packages/keras/src/engine/base_layer.py\", line 1149, in __call__\n\n  File \"/home/aogundiran/miniconda3/lib/python3.11/site-packages/keras/src/utils/traceback_utils.py\", line 96, in error_handler\n\n  File \"/home/aogundiran/miniconda3/lib/python3.11/site-packages/keras/src/layers/core/dense.py\", line 255, in call\n\n  File \"/home/aogundiran/miniconda3/lib/python3.11/site-packages/keras/src/activations.py\", line 400, in sigmoid\n\n  File \"/home/aogundiran/miniconda3/lib/python3.11/site-packages/keras/src/backend.py\", line 5915, in sigmoid\n\nJIT compilation failed.\n\t [[{{node sequential/dense_5/Sigmoid}}]] [Op:__inference_predict_function_1768]"
     ]
    }
   ],
   "source": [
    "#padded_docs1 = encode(docs1, vocab_size, max_length)\n",
    "test_preds = mymodel.predict(padded_docs)\n",
    "test_preds = np.round(test_preds).astype(int)\n",
    "test_preds1 = np.argmax(test_preds,axis=1)\n",
    "accuracy = metrics.accuracy_score(Y, test_preds)\n",
    "precision = metrics.precision_score(Y, test_preds)\n",
    "recall = metrics.recall_score(Y, test_preds)\n",
    "print (\"Accuracy = \", accuracy)\n",
    "print (\"Precision = \", precision)\n",
    "print (\"Recall = \", recall)"
   ]
  },
  {
   "cell_type": "code",
   "execution_count": 16,
   "id": "102987a1-f02d-4ee8-bf07-2ab5f8977a68",
   "metadata": {},
   "outputs": [
    {
     "name": "stdout",
     "output_type": "stream",
     "text": [
      "Classification report:\n",
      "               precision    recall  f1-score   support\n",
      "\n",
      "           0       1.00      1.00      1.00    899879\n",
      "           1       0.00      0.00      0.00      3728\n",
      "\n",
      "    accuracy                           1.00    903607\n",
      "   macro avg       0.50      0.50      0.50    903607\n",
      "weighted avg       0.99      1.00      0.99    903607\n",
      "\n"
     ]
    }
   ],
   "source": [
    "classification = classification_report(y_test, test_preds)\n",
    "#print(classification.keys())\n",
    "print(\"Classification report:\" \"\\n\", classification)"
   ]
  },
  {
   "cell_type": "code",
   "execution_count": null,
   "id": "4a47d957-b655-4e71-abd5-646bae110abc",
   "metadata": {},
   "outputs": [],
   "source": [
    "# Calculate confusion matrix\n",
    "confusion_mtx = confusion_matrix( Y, test_preds, normalize= 'true')\n",
    " \n",
    "# Plot the confusion matrix\n",
    "plt.figure(figsize=(10, 8))\n",
    "sn.heatmap(\n",
    "    confusion_mtx, xticklabels=[0,1], yticklabels=[0,1], annot=True,annot_kws={\"size\": 10}, cmap=sn.cubehelix_palette(as_cmap=True),linewidths=.5)\n",
    "plt.xlabel(\"Prediction\")\n",
    "plt.ylabel(\"Actual\")\n",
    "plt.title(\"Test Confusion Matrix\")\n",
    "plt.show()"
   ]
  },
  {
   "cell_type": "code",
   "execution_count": null,
   "id": "fcab2d67-808a-4a75-a772-9e828aa889fc",
   "metadata": {},
   "outputs": [],
   "source": []
  }
 ],
 "metadata": {
  "kernelspec": {
   "display_name": "Python 3 (ipykernel)",
   "language": "python",
   "name": "python3"
  },
  "language_info": {
   "codemirror_mode": {
    "name": "ipython",
    "version": 3
   },
   "file_extension": ".py",
   "mimetype": "text/x-python",
   "name": "python",
   "nbconvert_exporter": "python",
   "pygments_lexer": "ipython3",
   "version": "3.11.5"
  }
 },
 "nbformat": 4,
 "nbformat_minor": 5
}
