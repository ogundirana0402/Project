{
 "cells": [
  {
   "cell_type": "code",
   "execution_count": 15,
   "id": "3ae25a75-c0c5-480b-b972-90aa8fc03798",
   "metadata": {},
   "outputs": [],
   "source": [
    "import numpy as np\n",
    "import pandas as pd"
   ]
  },
  {
   "cell_type": "code",
   "execution_count": 16,
   "id": "4a9189ad-ed69-41c6-8975-ab67fdb92986",
   "metadata": {},
   "outputs": [],
   "source": [
    "df = pd.read_csv('data/pan12-ID-test.csv')\n",
    "#df = pd.read_csv('data/pan12-test.csv')"
   ]
  },
  {
   "cell_type": "code",
   "execution_count": 17,
   "id": "8a902f7a-8693-4b43-bfd6-8c8eef72cd24",
   "metadata": {},
   "outputs": [
    {
     "data": {
      "text/html": [
       "<div>\n",
       "<style scoped>\n",
       "    .dataframe tbody tr th:only-of-type {\n",
       "        vertical-align: middle;\n",
       "    }\n",
       "\n",
       "    .dataframe tbody tr th {\n",
       "        vertical-align: top;\n",
       "    }\n",
       "\n",
       "    .dataframe thead th {\n",
       "        text-align: right;\n",
       "    }\n",
       "</style>\n",
       "<table border=\"1\" class=\"dataframe\">\n",
       "  <thead>\n",
       "    <tr style=\"text-align: right;\">\n",
       "      <th></th>\n",
       "      <th>id</th>\n",
       "      <th>line</th>\n",
       "      <th>author</th>\n",
       "      <th>time</th>\n",
       "      <th>text</th>\n",
       "      <th>class</th>\n",
       "    </tr>\n",
       "  </thead>\n",
       "  <tbody>\n",
       "    <tr>\n",
       "      <th>0</th>\n",
       "      <td>affc2df0951b733d14ba92d19d9b7695</td>\n",
       "      <td>1</td>\n",
       "      <td>0a39f78bcb297ab0ebe8a29c28bfed89</td>\n",
       "      <td>03:24:00 PM</td>\n",
       "      <td>bugmail: [Bug 6978] New: Mark eof-terminated s...</td>\n",
       "      <td>0</td>\n",
       "    </tr>\n",
       "    <tr>\n",
       "      <th>1</th>\n",
       "      <td>affc2df0951b733d14ba92d19d9b7695</td>\n",
       "      <td>2</td>\n",
       "      <td>60659cfda992013e610f285c46692d28</td>\n",
       "      <td>03:32:00 PM</td>\n",
       "      <td>Henri, can I ask you a Firefox build question ...</td>\n",
       "      <td>0</td>\n",
       "    </tr>\n",
       "    <tr>\n",
       "      <th>2</th>\n",
       "      <td>affc2df0951b733d14ba92d19d9b7695</td>\n",
       "      <td>3</td>\n",
       "      <td>b8810fee2f4a71f849f3f7409546d1d9</td>\n",
       "      <td>03:34:00 PM</td>\n",
       "      <td>60659cfda992013e610f285c46692d28: sure, but I ...</td>\n",
       "      <td>0</td>\n",
       "    </tr>\n",
       "    <tr>\n",
       "      <th>3</th>\n",
       "      <td>affc2df0951b733d14ba92d19d9b7695</td>\n",
       "      <td>4</td>\n",
       "      <td>60659cfda992013e610f285c46692d28</td>\n",
       "      <td>03:35:00 PM</td>\n",
       "      <td>It appears the build runs through, it creates ...</td>\n",
       "      <td>0</td>\n",
       "    </tr>\n",
       "    <tr>\n",
       "      <th>4</th>\n",
       "      <td>affc2df0951b733d14ba92d19d9b7695</td>\n",
       "      <td>5</td>\n",
       "      <td>60659cfda992013e610f285c46692d28</td>\n",
       "      <td>03:35:00 PM</td>\n",
       "      <td>when I start it, I get my standard install of ...</td>\n",
       "      <td>0</td>\n",
       "    </tr>\n",
       "  </tbody>\n",
       "</table>\n",
       "</div>"
      ],
      "text/plain": [
       "                                 id  line                            author  \\\n",
       "0  affc2df0951b733d14ba92d19d9b7695     1  0a39f78bcb297ab0ebe8a29c28bfed89   \n",
       "1  affc2df0951b733d14ba92d19d9b7695     2  60659cfda992013e610f285c46692d28   \n",
       "2  affc2df0951b733d14ba92d19d9b7695     3  b8810fee2f4a71f849f3f7409546d1d9   \n",
       "3  affc2df0951b733d14ba92d19d9b7695     4  60659cfda992013e610f285c46692d28   \n",
       "4  affc2df0951b733d14ba92d19d9b7695     5  60659cfda992013e610f285c46692d28   \n",
       "\n",
       "          time                                               text  class  \n",
       "0  03:24:00 PM  bugmail: [Bug 6978] New: Mark eof-terminated s...      0  \n",
       "1  03:32:00 PM  Henri, can I ask you a Firefox build question ...      0  \n",
       "2  03:34:00 PM  60659cfda992013e610f285c46692d28: sure, but I ...      0  \n",
       "3  03:35:00 PM  It appears the build runs through, it creates ...      0  \n",
       "4  03:35:00 PM  when I start it, I get my standard install of ...      0  "
      ]
     },
     "execution_count": 17,
     "metadata": {},
     "output_type": "execute_result"
    }
   ],
   "source": [
    "df.head()"
   ]
  },
  {
   "cell_type": "code",
   "execution_count": 18,
   "id": "0273811b-c271-4a82-96ad-bd2a65cd86bb",
   "metadata": {},
   "outputs": [],
   "source": [
    "df1 = pd.read_csv('data/acronyms.csv')"
   ]
  },
  {
   "cell_type": "code",
   "execution_count": 19,
   "id": "df470fa7-12e4-450c-97cc-559243af0449",
   "metadata": {},
   "outputs": [
    {
     "data": {
      "text/html": [
       "<div>\n",
       "<style scoped>\n",
       "    .dataframe tbody tr th:only-of-type {\n",
       "        vertical-align: middle;\n",
       "    }\n",
       "\n",
       "    .dataframe tbody tr th {\n",
       "        vertical-align: top;\n",
       "    }\n",
       "\n",
       "    .dataframe thead th {\n",
       "        text-align: right;\n",
       "    }\n",
       "</style>\n",
       "<table border=\"1\" class=\"dataframe\">\n",
       "  <thead>\n",
       "    <tr style=\"text-align: right;\">\n",
       "      <th></th>\n",
       "      <th>words</th>\n",
       "    </tr>\n",
       "  </thead>\n",
       "  <tbody>\n",
       "    <tr>\n",
       "      <th>0</th>\n",
       "      <td>8</td>\n",
       "    </tr>\n",
       "    <tr>\n",
       "      <th>1</th>\n",
       "      <td>9</td>\n",
       "    </tr>\n",
       "    <tr>\n",
       "      <th>2</th>\n",
       "      <td>99</td>\n",
       "    </tr>\n",
       "    <tr>\n",
       "      <th>3</th>\n",
       "      <td>142</td>\n",
       "    </tr>\n",
       "    <tr>\n",
       "      <th>4</th>\n",
       "      <td>143</td>\n",
       "    </tr>\n",
       "  </tbody>\n",
       "</table>\n",
       "</div>"
      ],
      "text/plain": [
       "  words\n",
       "0     8\n",
       "1     9\n",
       "2    99\n",
       "3   142\n",
       "4   143"
      ]
     },
     "execution_count": 19,
     "metadata": {},
     "output_type": "execute_result"
    }
   ],
   "source": [
    "df1.head()"
   ]
  },
  {
   "cell_type": "code",
   "execution_count": 20,
   "id": "c368a50a-4c42-4ef0-bbf3-42cccf8787e4",
   "metadata": {},
   "outputs": [],
   "source": [
    "df2 = df.loc[df['class'] == 1]"
   ]
  },
  {
   "cell_type": "code",
   "execution_count": 21,
   "id": "0c985a38-fbc6-4771-8f87-4b9116fdb7a5",
   "metadata": {},
   "outputs": [
    {
     "data": {
      "text/html": [
       "<div>\n",
       "<style scoped>\n",
       "    .dataframe tbody tr th:only-of-type {\n",
       "        vertical-align: middle;\n",
       "    }\n",
       "\n",
       "    .dataframe tbody tr th {\n",
       "        vertical-align: top;\n",
       "    }\n",
       "\n",
       "    .dataframe thead th {\n",
       "        text-align: right;\n",
       "    }\n",
       "</style>\n",
       "<table border=\"1\" class=\"dataframe\">\n",
       "  <thead>\n",
       "    <tr style=\"text-align: right;\">\n",
       "      <th></th>\n",
       "      <th>id</th>\n",
       "      <th>line</th>\n",
       "      <th>author</th>\n",
       "      <th>time</th>\n",
       "      <th>text</th>\n",
       "      <th>class</th>\n",
       "    </tr>\n",
       "  </thead>\n",
       "  <tbody>\n",
       "    <tr>\n",
       "      <th>51</th>\n",
       "      <td>de15188e9fd515ed817a0b34546be902</td>\n",
       "      <td>2</td>\n",
       "      <td>4a9332d7466b98d11c23e4447b26460a</td>\n",
       "      <td>07:28:00 PM</td>\n",
       "      <td>ok babe</td>\n",
       "      <td>1</td>\n",
       "    </tr>\n",
       "    <tr>\n",
       "      <th>52</th>\n",
       "      <td>de15188e9fd515ed817a0b34546be902</td>\n",
       "      <td>3</td>\n",
       "      <td>4a9332d7466b98d11c23e4447b26460a</td>\n",
       "      <td>07:28:00 PM</td>\n",
       "      <td>what happend babe</td>\n",
       "      <td>1</td>\n",
       "    </tr>\n",
       "    <tr>\n",
       "      <th>54</th>\n",
       "      <td>de15188e9fd515ed817a0b34546be902</td>\n",
       "      <td>5</td>\n",
       "      <td>4a9332d7466b98d11c23e4447b26460a</td>\n",
       "      <td>07:29:00 PM</td>\n",
       "      <td>oh man i hate that what kinda of god?</td>\n",
       "      <td>1</td>\n",
       "    </tr>\n",
       "    <tr>\n",
       "      <th>56</th>\n",
       "      <td>de15188e9fd515ed817a0b34546be902</td>\n",
       "      <td>7</td>\n",
       "      <td>4a9332d7466b98d11c23e4447b26460a</td>\n",
       "      <td>07:30:00 PM</td>\n",
       "      <td>ic i have a pitbull hes a sweet heart</td>\n",
       "      <td>1</td>\n",
       "    </tr>\n",
       "    <tr>\n",
       "      <th>58</th>\n",
       "      <td>de15188e9fd515ed817a0b34546be902</td>\n",
       "      <td>9</td>\n",
       "      <td>4a9332d7466b98d11c23e4447b26460a</td>\n",
       "      <td>07:30:00 PM</td>\n",
       "      <td>he thinks his a small dog</td>\n",
       "      <td>1</td>\n",
       "    </tr>\n",
       "  </tbody>\n",
       "</table>\n",
       "</div>"
      ],
      "text/plain": [
       "                                  id  line                            author  \\\n",
       "51  de15188e9fd515ed817a0b34546be902     2  4a9332d7466b98d11c23e4447b26460a   \n",
       "52  de15188e9fd515ed817a0b34546be902     3  4a9332d7466b98d11c23e4447b26460a   \n",
       "54  de15188e9fd515ed817a0b34546be902     5  4a9332d7466b98d11c23e4447b26460a   \n",
       "56  de15188e9fd515ed817a0b34546be902     7  4a9332d7466b98d11c23e4447b26460a   \n",
       "58  de15188e9fd515ed817a0b34546be902     9  4a9332d7466b98d11c23e4447b26460a   \n",
       "\n",
       "           time                                   text  class  \n",
       "51  07:28:00 PM                                ok babe      1  \n",
       "52  07:28:00 PM                      what happend babe      1  \n",
       "54  07:29:00 PM  oh man i hate that what kinda of god?      1  \n",
       "56  07:30:00 PM  ic i have a pitbull hes a sweet heart      1  \n",
       "58  07:30:00 PM              he thinks his a small dog      1  "
      ]
     },
     "execution_count": 21,
     "metadata": {},
     "output_type": "execute_result"
    }
   ],
   "source": [
    "df2.head()"
   ]
  },
  {
   "cell_type": "code",
   "execution_count": 22,
   "id": "719a2f34-26cd-4530-b034-0d7adf90a7bf",
   "metadata": {},
   "outputs": [],
   "source": [
    "df3 = pd.read_csv('data/bagofwords_predator.txt')"
   ]
  },
  {
   "cell_type": "code",
   "execution_count": 23,
   "id": "a1f290e8-43ce-4686-a5d1-c3ae9b708185",
   "metadata": {},
   "outputs": [],
   "source": [
    "predator_words = pd.concat([df1, df3])"
   ]
  },
  {
   "cell_type": "code",
   "execution_count": 24,
   "id": "6901189e-f422-44ed-b6ce-ba4e70af9ce2",
   "metadata": {},
   "outputs": [
    {
     "name": "stdout",
     "output_type": "stream",
     "text": [
      "           words\n",
      "0              8\n",
      "1              9\n",
      "2             99\n",
      "3            142\n",
      "4            143\n",
      "...          ...\n",
      "2787    fandango\n",
      "2788       waltz\n",
      "2789  tarantella\n",
      "2790      shimmy\n",
      "2791    courante\n",
      "\n",
      "[2851 rows x 1 columns]\n"
     ]
    }
   ],
   "source": [
    "print(predator_words)"
   ]
  },
  {
   "cell_type": "code",
   "execution_count": 25,
   "id": "358f0e51-81e8-4cec-ab93-585e81f62b76",
   "metadata": {},
   "outputs": [],
   "source": [
    "df4 = df.loc[df['class'] == 0]"
   ]
  },
  {
   "cell_type": "code",
   "execution_count": 26,
   "id": "caaa490e-bd41-4fba-b947-c848a688b547",
   "metadata": {},
   "outputs": [
    {
     "data": {
      "text/plain": [
       "1016671"
      ]
     },
     "execution_count": 26,
     "metadata": {},
     "output_type": "execute_result"
    }
   ],
   "source": [
    "len(df4)"
   ]
  },
  {
   "cell_type": "code",
   "execution_count": 28,
   "id": "e3309ad5-cfee-4a29-951f-8e25243a3410",
   "metadata": {},
   "outputs": [],
   "source": [
    "acronyms = list(predator_words.words)\n",
    "texts = list(df2.text)\n",
    "classes = []"
   ]
  },
  {
   "cell_type": "code",
   "execution_count": 29,
   "id": "e3a6b01b-ea96-4414-8387-32f9a3421d2b",
   "metadata": {},
   "outputs": [],
   "source": [
    "for text in texts:\n",
    "    find = False\n",
    "    for acronym in acronyms:\n",
    "        if str(acronym) in str(text):\n",
    "            find = True\n",
    "    if find:\n",
    "        classes.append(1)\n",
    "    else:\n",
    "        classes.append(0)"
   ]
  },
  {
   "cell_type": "code",
   "execution_count": 30,
   "id": "42d1f915-78b2-4653-adec-c2300ff8a771",
   "metadata": {},
   "outputs": [
    {
     "name": "stdout",
     "output_type": "stream",
     "text": [
      "[0 1] [12540 19364]\n"
     ]
    }
   ],
   "source": [
    "u,f = np.unique(classes, return_counts = True)\n",
    "print(u, f)"
   ]
  },
  {
   "cell_type": "code",
   "execution_count": 31,
   "id": "55ed3726-1679-4b4f-8b37-f23fd1b4ceb4",
   "metadata": {},
   "outputs": [
    {
     "name": "stderr",
     "output_type": "stream",
     "text": [
      "/tmp/ipykernel_26194/1901255883.py:1: SettingWithCopyWarning: \n",
      "A value is trying to be set on a copy of a slice from a DataFrame.\n",
      "Try using .loc[row_indexer,col_indexer] = value instead\n",
      "\n",
      "See the caveats in the documentation: https://pandas.pydata.org/pandas-docs/stable/user_guide/indexing.html#returning-a-view-versus-a-copy\n",
      "  df2['class'] = classes\n"
     ]
    }
   ],
   "source": [
    "df2['class'] = classes"
   ]
  },
  {
   "cell_type": "code",
   "execution_count": 32,
   "id": "975a8a8c-9e09-42bc-ab0b-ced7284c46df",
   "metadata": {},
   "outputs": [],
   "source": [
    "df5 = pd.concat([df2, df4])"
   ]
  },
  {
   "cell_type": "code",
   "execution_count": 33,
   "id": "dde8e57c-d8fa-406a-a378-a3e4029a3804",
   "metadata": {},
   "outputs": [
    {
     "name": "stdout",
     "output_type": "stream",
     "text": [
      "[0] [1016671]\n"
     ]
    }
   ],
   "source": [
    "u, f = np.unique(df4['class'], return_counts = True)\n",
    "print(u,f)\n",
    "# len(df4['class'])"
   ]
  },
  {
   "cell_type": "code",
   "execution_count": 34,
   "id": "ba94b1a8-ab90-49e8-8cf4-790530cd64bd",
   "metadata": {},
   "outputs": [],
   "source": [
    "df5.to_csv('data/test_data.csv', index=False)"
   ]
  },
  {
   "cell_type": "code",
   "execution_count": null,
   "id": "3b9e14e8-ee1f-4d7a-9686-a9bb3370201b",
   "metadata": {},
   "outputs": [],
   "source": []
  }
 ],
 "metadata": {
  "kernelspec": {
   "display_name": "Python 3 (ipykernel)",
   "language": "python",
   "name": "python3"
  },
  "language_info": {
   "codemirror_mode": {
    "name": "ipython",
    "version": 3
   },
   "file_extension": ".py",
   "mimetype": "text/x-python",
   "name": "python",
   "nbconvert_exporter": "python",
   "pygments_lexer": "ipython3",
   "version": "3.11.5"
  }
 },
 "nbformat": 4,
 "nbformat_minor": 5
}
