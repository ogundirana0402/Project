{
 "cells": [
  {
   "cell_type": "code",
   "execution_count": 7,
   "id": "3ae25a75-c0c5-480b-b972-90aa8fc03798",
   "metadata": {},
   "outputs": [],
   "source": [
    "import numpy as np\n",
    "import pandas as pd"
   ]
  },
  {
   "cell_type": "code",
   "execution_count": 8,
   "id": "4a9189ad-ed69-41c6-8975-ab67fdb92986",
   "metadata": {},
   "outputs": [],
   "source": [
    "df = pd.read_csv('data/pan12-train.csv')"
   ]
  },
  {
   "cell_type": "code",
   "execution_count": 9,
   "id": "8a902f7a-8693-4b43-bfd6-8c8eef72cd24",
   "metadata": {},
   "outputs": [
    {
     "data": {
      "text/html": [
       "<div>\n",
       "<style scoped>\n",
       "    .dataframe tbody tr th:only-of-type {\n",
       "        vertical-align: middle;\n",
       "    }\n",
       "\n",
       "    .dataframe tbody tr th {\n",
       "        vertical-align: top;\n",
       "    }\n",
       "\n",
       "    .dataframe thead th {\n",
       "        text-align: right;\n",
       "    }\n",
       "</style>\n",
       "<table border=\"1\" class=\"dataframe\">\n",
       "  <thead>\n",
       "    <tr style=\"text-align: right;\">\n",
       "      <th></th>\n",
       "      <th>id</th>\n",
       "      <th>line</th>\n",
       "      <th>author</th>\n",
       "      <th>time</th>\n",
       "      <th>text</th>\n",
       "      <th>class</th>\n",
       "    </tr>\n",
       "  </thead>\n",
       "  <tbody>\n",
       "    <tr>\n",
       "      <th>0</th>\n",
       "      <td>e621da5de598c9321a1d505ea95e6a2d</td>\n",
       "      <td>1</td>\n",
       "      <td>97964e7a9e8eb9cf78f2e4d7b2ff34c7</td>\n",
       "      <td>03:20:00 AM</td>\n",
       "      <td>Hola.</td>\n",
       "      <td>0</td>\n",
       "    </tr>\n",
       "    <tr>\n",
       "      <th>1</th>\n",
       "      <td>e621da5de598c9321a1d505ea95e6a2d</td>\n",
       "      <td>2</td>\n",
       "      <td>0158d0d6781fc4d493f243d4caa49747</td>\n",
       "      <td>03:20:00 AM</td>\n",
       "      <td>hi.</td>\n",
       "      <td>0</td>\n",
       "    </tr>\n",
       "    <tr>\n",
       "      <th>2</th>\n",
       "      <td>e621da5de598c9321a1d505ea95e6a2d</td>\n",
       "      <td>3</td>\n",
       "      <td>0158d0d6781fc4d493f243d4caa49747</td>\n",
       "      <td>03:20:00 AM</td>\n",
       "      <td>whats up?</td>\n",
       "      <td>0</td>\n",
       "    </tr>\n",
       "    <tr>\n",
       "      <th>3</th>\n",
       "      <td>e621da5de598c9321a1d505ea95e6a2d</td>\n",
       "      <td>4</td>\n",
       "      <td>97964e7a9e8eb9cf78f2e4d7b2ff34c7</td>\n",
       "      <td>03:20:00 AM</td>\n",
       "      <td>not a ton.</td>\n",
       "      <td>0</td>\n",
       "    </tr>\n",
       "    <tr>\n",
       "      <th>4</th>\n",
       "      <td>e621da5de598c9321a1d505ea95e6a2d</td>\n",
       "      <td>5</td>\n",
       "      <td>97964e7a9e8eb9cf78f2e4d7b2ff34c7</td>\n",
       "      <td>03:20:00 AM</td>\n",
       "      <td>you?</td>\n",
       "      <td>0</td>\n",
       "    </tr>\n",
       "  </tbody>\n",
       "</table>\n",
       "</div>"
      ],
      "text/plain": [
       "                                 id  line                            author  \\\n",
       "0  e621da5de598c9321a1d505ea95e6a2d     1  97964e7a9e8eb9cf78f2e4d7b2ff34c7   \n",
       "1  e621da5de598c9321a1d505ea95e6a2d     2  0158d0d6781fc4d493f243d4caa49747   \n",
       "2  e621da5de598c9321a1d505ea95e6a2d     3  0158d0d6781fc4d493f243d4caa49747   \n",
       "3  e621da5de598c9321a1d505ea95e6a2d     4  97964e7a9e8eb9cf78f2e4d7b2ff34c7   \n",
       "4  e621da5de598c9321a1d505ea95e6a2d     5  97964e7a9e8eb9cf78f2e4d7b2ff34c7   \n",
       "\n",
       "          time        text  class  \n",
       "0  03:20:00 AM       Hola.      0  \n",
       "1  03:20:00 AM         hi.      0  \n",
       "2  03:20:00 AM   whats up?      0  \n",
       "3  03:20:00 AM  not a ton.      0  \n",
       "4  03:20:00 AM        you?      0  "
      ]
     },
     "execution_count": 9,
     "metadata": {},
     "output_type": "execute_result"
    }
   ],
   "source": [
    "df.head()"
   ]
  },
  {
   "cell_type": "code",
   "execution_count": 10,
   "id": "0273811b-c271-4a82-96ad-bd2a65cd86bb",
   "metadata": {},
   "outputs": [],
   "source": [
    "df1 = pd.read_csv('data/acronyms.csv')"
   ]
  },
  {
   "cell_type": "code",
   "execution_count": 11,
   "id": "df470fa7-12e4-450c-97cc-559243af0449",
   "metadata": {},
   "outputs": [
    {
     "data": {
      "text/html": [
       "<div>\n",
       "<style scoped>\n",
       "    .dataframe tbody tr th:only-of-type {\n",
       "        vertical-align: middle;\n",
       "    }\n",
       "\n",
       "    .dataframe tbody tr th {\n",
       "        vertical-align: top;\n",
       "    }\n",
       "\n",
       "    .dataframe thead th {\n",
       "        text-align: right;\n",
       "    }\n",
       "</style>\n",
       "<table border=\"1\" class=\"dataframe\">\n",
       "  <thead>\n",
       "    <tr style=\"text-align: right;\">\n",
       "      <th></th>\n",
       "      <th>words</th>\n",
       "    </tr>\n",
       "  </thead>\n",
       "  <tbody>\n",
       "    <tr>\n",
       "      <th>0</th>\n",
       "      <td>8</td>\n",
       "    </tr>\n",
       "    <tr>\n",
       "      <th>1</th>\n",
       "      <td>9</td>\n",
       "    </tr>\n",
       "    <tr>\n",
       "      <th>2</th>\n",
       "      <td>99</td>\n",
       "    </tr>\n",
       "    <tr>\n",
       "      <th>3</th>\n",
       "      <td>142</td>\n",
       "    </tr>\n",
       "    <tr>\n",
       "      <th>4</th>\n",
       "      <td>143</td>\n",
       "    </tr>\n",
       "  </tbody>\n",
       "</table>\n",
       "</div>"
      ],
      "text/plain": [
       "  words\n",
       "0     8\n",
       "1     9\n",
       "2    99\n",
       "3   142\n",
       "4   143"
      ]
     },
     "execution_count": 11,
     "metadata": {},
     "output_type": "execute_result"
    }
   ],
   "source": [
    "df1.head()"
   ]
  },
  {
   "cell_type": "code",
   "execution_count": 12,
   "id": "c368a50a-4c42-4ef0-bbf3-42cccf8787e4",
   "metadata": {},
   "outputs": [],
   "source": [
    "df2 = df.loc[df['class'] == 1]"
   ]
  },
  {
   "cell_type": "code",
   "execution_count": 13,
   "id": "0c985a38-fbc6-4771-8f87-4b9116fdb7a5",
   "metadata": {},
   "outputs": [
    {
     "data": {
      "text/html": [
       "<div>\n",
       "<style scoped>\n",
       "    .dataframe tbody tr th:only-of-type {\n",
       "        vertical-align: middle;\n",
       "    }\n",
       "\n",
       "    .dataframe tbody tr th {\n",
       "        vertical-align: top;\n",
       "    }\n",
       "\n",
       "    .dataframe thead th {\n",
       "        text-align: right;\n",
       "    }\n",
       "</style>\n",
       "<table border=\"1\" class=\"dataframe\">\n",
       "  <thead>\n",
       "    <tr style=\"text-align: right;\">\n",
       "      <th></th>\n",
       "      <th>id</th>\n",
       "      <th>line</th>\n",
       "      <th>author</th>\n",
       "      <th>time</th>\n",
       "      <th>text</th>\n",
       "      <th>class</th>\n",
       "    </tr>\n",
       "  </thead>\n",
       "  <tbody>\n",
       "    <tr>\n",
       "      <th>510</th>\n",
       "      <td>fc77b9ed8d13697e8deea79de0b4df23</td>\n",
       "      <td>1</td>\n",
       "      <td>6f35a1f69fd4ae82056e4bc6a8a84575</td>\n",
       "      <td>11:56:00 PM</td>\n",
       "      <td>hey!!</td>\n",
       "      <td>1</td>\n",
       "    </tr>\n",
       "    <tr>\n",
       "      <th>513</th>\n",
       "      <td>fc77b9ed8d13697e8deea79de0b4df23</td>\n",
       "      <td>4</td>\n",
       "      <td>6f35a1f69fd4ae82056e4bc6a8a84575</td>\n",
       "      <td>11:57:00 PM</td>\n",
       "      <td>a little better what are u doing?</td>\n",
       "      <td>1</td>\n",
       "    </tr>\n",
       "    <tr>\n",
       "      <th>517</th>\n",
       "      <td>fc77b9ed8d13697e8deea79de0b4df23</td>\n",
       "      <td>8</td>\n",
       "      <td>6f35a1f69fd4ae82056e4bc6a8a84575</td>\n",
       "      <td>11:58:00 PM</td>\n",
       "      <td>yea i thought u did i just woke and checked to...</td>\n",
       "      <td>1</td>\n",
       "    </tr>\n",
       "    <tr>\n",
       "      <th>519</th>\n",
       "      <td>fc77b9ed8d13697e8deea79de0b4df23</td>\n",
       "      <td>10</td>\n",
       "      <td>6f35a1f69fd4ae82056e4bc6a8a84575</td>\n",
       "      <td>11:59:00 PM</td>\n",
       "      <td>so what did u do today?</td>\n",
       "      <td>1</td>\n",
       "    </tr>\n",
       "    <tr>\n",
       "      <th>521</th>\n",
       "      <td>fc77b9ed8d13697e8deea79de0b4df23</td>\n",
       "      <td>12</td>\n",
       "      <td>6f35a1f69fd4ae82056e4bc6a8a84575</td>\n",
       "      <td>12:00:00 AM</td>\n",
       "      <td>sounds like fun lol</td>\n",
       "      <td>1</td>\n",
       "    </tr>\n",
       "  </tbody>\n",
       "</table>\n",
       "</div>"
      ],
      "text/plain": [
       "                                   id  line                            author  \\\n",
       "510  fc77b9ed8d13697e8deea79de0b4df23     1  6f35a1f69fd4ae82056e4bc6a8a84575   \n",
       "513  fc77b9ed8d13697e8deea79de0b4df23     4  6f35a1f69fd4ae82056e4bc6a8a84575   \n",
       "517  fc77b9ed8d13697e8deea79de0b4df23     8  6f35a1f69fd4ae82056e4bc6a8a84575   \n",
       "519  fc77b9ed8d13697e8deea79de0b4df23    10  6f35a1f69fd4ae82056e4bc6a8a84575   \n",
       "521  fc77b9ed8d13697e8deea79de0b4df23    12  6f35a1f69fd4ae82056e4bc6a8a84575   \n",
       "\n",
       "            time                                               text  class  \n",
       "510  11:56:00 PM                                              hey!!      1  \n",
       "513  11:57:00 PM                  a little better what are u doing?      1  \n",
       "517  11:58:00 PM  yea i thought u did i just woke and checked to...      1  \n",
       "519  11:59:00 PM                            so what did u do today?      1  \n",
       "521  12:00:00 AM                                sounds like fun lol      1  "
      ]
     },
     "execution_count": 13,
     "metadata": {},
     "output_type": "execute_result"
    }
   ],
   "source": [
    "df2.head()"
   ]
  },
  {
   "cell_type": "code",
   "execution_count": 17,
   "id": "a5175ef6-56e3-431a-8c44-3674050c3c76",
   "metadata": {},
   "outputs": [],
   "source": [
    "df3 = pd.read_csv('data/bagofwords_predator.txt')"
   ]
  },
  {
   "cell_type": "code",
   "execution_count": 18,
   "id": "63e299bf-74ef-4e76-a763-8d4c1bde85d6",
   "metadata": {},
   "outputs": [
    {
     "data": {
      "text/html": [
       "<div>\n",
       "<style scoped>\n",
       "    .dataframe tbody tr th:only-of-type {\n",
       "        vertical-align: middle;\n",
       "    }\n",
       "\n",
       "    .dataframe tbody tr th {\n",
       "        vertical-align: top;\n",
       "    }\n",
       "\n",
       "    .dataframe thead th {\n",
       "        text-align: right;\n",
       "    }\n",
       "</style>\n",
       "<table border=\"1\" class=\"dataframe\">\n",
       "  <thead>\n",
       "    <tr style=\"text-align: right;\">\n",
       "      <th></th>\n",
       "      <th>words</th>\n",
       "    </tr>\n",
       "  </thead>\n",
       "  <tbody>\n",
       "    <tr>\n",
       "      <th>2787</th>\n",
       "      <td>fandango</td>\n",
       "    </tr>\n",
       "    <tr>\n",
       "      <th>2788</th>\n",
       "      <td>waltz</td>\n",
       "    </tr>\n",
       "    <tr>\n",
       "      <th>2789</th>\n",
       "      <td>tarantella</td>\n",
       "    </tr>\n",
       "    <tr>\n",
       "      <th>2790</th>\n",
       "      <td>shimmy</td>\n",
       "    </tr>\n",
       "    <tr>\n",
       "      <th>2791</th>\n",
       "      <td>courante</td>\n",
       "    </tr>\n",
       "  </tbody>\n",
       "</table>\n",
       "</div>"
      ],
      "text/plain": [
       "           words\n",
       "2787    fandango\n",
       "2788       waltz\n",
       "2789  tarantella\n",
       "2790      shimmy\n",
       "2791    courante"
      ]
     },
     "execution_count": 18,
     "metadata": {},
     "output_type": "execute_result"
    }
   ],
   "source": [
    "df3.head()\n",
    "df3.tail()"
   ]
  },
  {
   "cell_type": "code",
   "execution_count": 19,
   "id": "019bb163-9f10-4197-aa43-0323be3e76c0",
   "metadata": {},
   "outputs": [],
   "source": [
    "predator_words = pd.concat([df1, df3])"
   ]
  },
  {
   "cell_type": "code",
   "execution_count": 20,
   "id": "335c8b91-8311-4cc3-a4c2-c4e7893d35a5",
   "metadata": {},
   "outputs": [
    {
     "name": "stdout",
     "output_type": "stream",
     "text": [
      "           words\n",
      "0              8\n",
      "1              9\n",
      "2             99\n",
      "3            142\n",
      "4            143\n",
      "...          ...\n",
      "2787    fandango\n",
      "2788       waltz\n",
      "2789  tarantella\n",
      "2790      shimmy\n",
      "2791    courante\n",
      "\n",
      "[2851 rows x 1 columns]\n"
     ]
    }
   ],
   "source": [
    "print(predator_words)"
   ]
  },
  {
   "cell_type": "code",
   "execution_count": 27,
   "id": "358f0e51-81e8-4cec-ab93-585e81f62b76",
   "metadata": {},
   "outputs": [],
   "source": [
    "df4 = df.loc[df['class'] == 0]"
   ]
  },
  {
   "cell_type": "code",
   "execution_count": 28,
   "id": "caaa490e-bd41-4fba-b947-c848a688b547",
   "metadata": {},
   "outputs": [
    {
     "data": {
      "text/plain": [
       "862629"
      ]
     },
     "execution_count": 28,
     "metadata": {},
     "output_type": "execute_result"
    }
   ],
   "source": [
    "len(df4)"
   ]
  },
  {
   "cell_type": "code",
   "execution_count": 29,
   "id": "e3309ad5-cfee-4a29-951f-8e25243a3410",
   "metadata": {},
   "outputs": [],
   "source": [
    "acronyms = list(predator_words.words)\n",
    "texts = list(df2.text)\n",
    "classes = []"
   ]
  },
  {
   "cell_type": "code",
   "execution_count": 30,
   "id": "e3a6b01b-ea96-4414-8387-32f9a3421d2b",
   "metadata": {},
   "outputs": [],
   "source": [
    "for text in texts:\n",
    "    find = False\n",
    "    for acronym in acronyms:\n",
    "        if str(acronym) in str(text):\n",
    "            find = True\n",
    "    if find:\n",
    "        classes.append(1)\n",
    "    else:\n",
    "        classes.append(0)"
   ]
  },
  {
   "cell_type": "code",
   "execution_count": 31,
   "id": "42d1f915-78b2-4653-adec-c2300ff8a771",
   "metadata": {},
   "outputs": [
    {
     "name": "stdout",
     "output_type": "stream",
     "text": [
      "[0 1] [16813 24165]\n"
     ]
    }
   ],
   "source": [
    "u,f = np.unique(classes, return_counts = True)\n",
    "print(u, f)"
   ]
  },
  {
   "cell_type": "code",
   "execution_count": 32,
   "id": "55ed3726-1679-4b4f-8b37-f23fd1b4ceb4",
   "metadata": {},
   "outputs": [
    {
     "name": "stderr",
     "output_type": "stream",
     "text": [
      "/tmp/ipykernel_26195/1901255883.py:1: SettingWithCopyWarning: \n",
      "A value is trying to be set on a copy of a slice from a DataFrame.\n",
      "Try using .loc[row_indexer,col_indexer] = value instead\n",
      "\n",
      "See the caveats in the documentation: https://pandas.pydata.org/pandas-docs/stable/user_guide/indexing.html#returning-a-view-versus-a-copy\n",
      "  df2['class'] = classes\n"
     ]
    }
   ],
   "source": [
    "df2['class'] = classes"
   ]
  },
  {
   "cell_type": "code",
   "execution_count": 33,
   "id": "975a8a8c-9e09-42bc-ab0b-ced7284c46df",
   "metadata": {},
   "outputs": [],
   "source": [
    "df5 = pd.concat([df2, df4])"
   ]
  },
  {
   "cell_type": "code",
   "execution_count": 34,
   "id": "dde8e57c-d8fa-406a-a378-a3e4029a3804",
   "metadata": {},
   "outputs": [
    {
     "name": "stdout",
     "output_type": "stream",
     "text": [
      "[0 1] [879442  24165]\n"
     ]
    }
   ],
   "source": [
    "u, f = np.unique(df5['class'], return_counts = True)\n",
    "print(u,f)\n",
    "# len(df4['class'])"
   ]
  },
  {
   "cell_type": "code",
   "execution_count": 35,
   "id": "ba94b1a8-ab90-49e8-8cf4-790530cd64bd",
   "metadata": {},
   "outputs": [],
   "source": [
    "df5.to_csv('data/training_data.csv', index=False)"
   ]
  },
  {
   "cell_type": "code",
   "execution_count": null,
   "id": "3b9e14e8-ee1f-4d7a-9686-a9bb3370201b",
   "metadata": {},
   "outputs": [],
   "source": []
  }
 ],
 "metadata": {
  "kernelspec": {
   "display_name": "Python 3 (ipykernel)",
   "language": "python",
   "name": "python3"
  },
  "language_info": {
   "codemirror_mode": {
    "name": "ipython",
    "version": 3
   },
   "file_extension": ".py",
   "mimetype": "text/x-python",
   "name": "python",
   "nbconvert_exporter": "python",
   "pygments_lexer": "ipython3",
   "version": "3.11.5"
  }
 },
 "nbformat": 4,
 "nbformat_minor": 5
}
